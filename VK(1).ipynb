{
 "cells": [
  {
   "cell_type": "code",
   "execution_count": 20,
   "metadata": {},
   "outputs": [
    {
     "data": {
      "text/plain": [
       "{'response': [{'id': 1,\n",
       "   'first_name': 'Павел',\n",
       "   'last_name': 'Дуров',\n",
       "   'bdate': '10.10.1984'}]}"
      ]
     },
     "execution_count": 20,
     "metadata": {},
     "output_type": "execute_result"
    }
   ],
   "source": [
    "import requests\n",
    "token = \"ae52015191fc8a8e1d98193433eaa638828ea5eac6b936d947eb5379a007395163c39e6d7fe796ccf0a99\"\n",
    "base_url = \"https://api.vk.com/method\"\n",
    "r = requests.get(f\"{base_url}/users.get?user_ids=1&fields=bdate&access_token={token}&v=5.80\")\n",
    "r.json()"
   ]
  },
  {
   "cell_type": "code",
   "execution_count": 78,
   "metadata": {},
   "outputs": [
    {
     "data": {
      "text/plain": [
       "{'response': [{'id': 1,\n",
       "   'first_name': 'Павел',\n",
       "   'last_name': 'Дуров',\n",
       "   'university': 1,\n",
       "   'university_name': 'СПбГУ',\n",
       "   'faculty': 0,\n",
       "   'faculty_name': '',\n",
       "   'graduation': 2006}]}"
      ]
     },
     "execution_count": 78,
     "metadata": {},
     "output_type": "execute_result"
    }
   ],
   "source": [
    "import requests\n",
    "token = \"ae52015191fc8a8e1d98193433eaa638828ea5eac6b936d947eb5379a007395163c39e6d7fe796ccf0a99\"\n",
    "base_url = \"https://api.vk.com/method\"\n",
    "r = requests.get(f\"{base_url}/users.get?user_ids=1&fields=education&access_token={token}&v=5.80\")\n",
    "r.json()"
   ]
  },
  {
   "cell_type": "code",
   "execution_count": 4,
   "metadata": {},
   "outputs": [
    {
     "data": {
      "text/plain": [
       "{'response': [{'id': 1,\n",
       "   'first_name': 'Павел',\n",
       "   'last_name': 'Дуров',\n",
       "   'universities': [{'id': 1,\n",
       "     'country': 1,\n",
       "     'city': 2,\n",
       "     'name': 'СПбГУ',\n",
       "     'graduation': 2006}]}]}"
      ]
     },
     "execution_count": 4,
     "metadata": {},
     "output_type": "execute_result"
    }
   ],
   "source": [
    "import requests\n",
    "token = \"ae52015191fc8a8e1d98193433eaa638828ea5eac6b936d947eb5379a007395163c39e6d7fe796ccf0a99\"\n",
    "base_url = \"https://api.vk.com/method\"\n",
    "r = requests.get(f\"{base_url}/users.get?user_ids=1&fields=universities&access_token={token}&v=5.80\")\n",
    "r.json()"
   ]
  },
  {
   "cell_type": "code",
   "execution_count": 15,
   "metadata": {},
   "outputs": [
    {
     "name": "stdout",
     "output_type": "stream",
     "text": [
      "{'response': [{'id': 2306324, 'first_name': 'Алексей', 'last_name': 'Осипов'}]}\n"
     ]
    }
   ],
   "source": [
    "import requests\n",
    "user_id = [1, 928041, 342, 7527275]\n",
    "for i in user_id:\n",
    "    r = requests.get(f\"{base_url}/users.get?user_ids=user_id&fields=universities&access_token={token}&v=5.80\")\n",
    "print(r.json())"
   ]
  },
  {
   "cell_type": "code",
   "execution_count": 23,
   "metadata": {},
   "outputs": [],
   "source": [
    "import collections\n",
    "import vk\n",
    "VK_TOKEN = 'ae52015191fc8a8e1d98193433eaa638828ea5eac6b936d947eb5379a007395163c39e6d7fe796ccf0a99'\n",
    "ID = 10385605\n",
    "session = vk.Session(VK_TOKEN)\n",
    "api = vk.API(session, v=5.103)\n",
    "deq = collections.deque(maxlen=4)"
   ]
  },
  {
   "cell_type": "code",
   "execution_count": 60,
   "metadata": {},
   "outputs": [
    {
     "name": "stdout",
     "output_type": "stream",
     "text": [
      "{'response': [{'id': 1, 'first_name': 'Павел', 'last_name': 'Дуров', 'online': 0, 'last_seen': {'time': 1585047104, 'platform': 7}, 'followers_count': 5931976, 'relation': 0}, {'id': 5, 'first_name': 'Илья', 'last_name': 'Перекопский', 'online': 0, 'last_seen': {'time': 1585906509, 'platform': 2}, 'followers_count': 34406}, {'id': 16, 'first_name': 'Виктория', 'last_name': 'Беспалова', 'online': 0, 'last_seen': {'time': 1585905967, 'platform': 7}}]}\n"
     ]
    }
   ],
   "source": [
    "import requests\n",
    "user_id='1,5,16'\n",
    "r = requests.get('https://api.vk.com/method/users.get',params={'user_ids':user_id,\n",
    "                                                               'fields':'followers_count,relation,online,last_seen','v':'5.52','access_token':'ae52015191fc8a8e1d98193433eaa638828ea5eac6b936d947eb5379a007395163c39e6d7fe796ccf0a99'})\n",
    "print(r.json())"
   ]
  },
  {
   "cell_type": "code",
   "execution_count": 63,
   "metadata": {},
   "outputs": [
    {
     "name": "stdout",
     "output_type": "stream",
     "text": [
      "{'response': [{'id': 1, 'first_name': 'Павел', 'last_name': 'Дуров', 'sex': 2, 'followers_count': 5931988}]}\n",
      "{'response': [{'id': 928041, 'first_name': 'Сергей', 'last_name': 'Шмаков', 'sex': 2, 'followers_count': 4153}]}\n",
      "{'response': [{'id': 342, 'first_name': 'Dmitry', 'last_name': 'Svetloff', 'sex': 2}]}\n",
      "{'response': [{'id': 7527275, 'first_name': 'DELETED', 'last_name': '', 'deactivated': 'deleted', 'sex': 1}]}\n"
     ]
    }
   ],
   "source": [
    "import requests\n",
    "user_id = [1, 928041, 342, 7527275]\n",
    "for i in user_id:\n",
    "    r = requests.get('https://api.vk.com/method/users.get',params={'user_ids':i,'fields':'followers_count, sex','v':'5.52','access_token':'ae52015191fc8a8e1d98193433eaa638828ea5eac6b936d947eb5379a007395163c39e6d7fe796ccf0a99'})\n",
    "    print(r.json())"
   ]
  },
  {
   "cell_type": "code",
   "execution_count": 80,
   "metadata": {},
   "outputs": [
    {
     "data": {
      "text/plain": [
       "{'response': {'count': 2733,\n",
       "  'items': [{'id': 22962,\n",
       "    'from_id': -38369814,\n",
       "    'owner_id': -38369814,\n",
       "    'date': 1554646725,\n",
       "    'marked_as_ads': 0,\n",
       "    'post_type': 'post',\n",
       "    'text': '\"Сегодня круто быть негативным\" \\n \\nhttps://www.youtube.com/watch?v=tqUpdDjzWAc',\n",
       "    'is_pinned': 1,\n",
       "    'attachments': [{'type': 'video',\n",
       "      'video': {'access_key': '61660b8bbc7cd2a00e',\n",
       "       'can_comment': 1,\n",
       "       'can_like': 1,\n",
       "       'can_repost': 1,\n",
       "       'can_subscribe': 1,\n",
       "       'can_add_to_faves': 1,\n",
       "       'can_add': 1,\n",
       "       'comments': 0,\n",
       "       'date': 1554646725,\n",
       "       'description': 'Страница Академии Джо Рогана вконтакте - https://vk.com/joeroganacademy\\nНовые анонсы, аудиоверсии подкастов, все озвучки Джо Рогана и многое другое.\\n====================================\\nПоддержать новые озвучки Академии Джо Рогана рублем можно здесь \\nКарта сбербанка - 4276854016599960 \\nYasobe.ru/na/joeroganacademy\\nЯндекс.деньги - 410015240549021\\nPaypal - joeroganacademy@gmail.com\\nQiwi-кошелек - +79198158696\\n-------------------------------------\\nНе забудьте указать ваше имя, чтобы поблагодарить вас в конце к',\n",
       "       'duration': 718,\n",
       "       'photo_130': 'https://sun9-46.userapi.com/c849136/v849136073/16c9db/tIGQmudA-Gs.jpg',\n",
       "       'photo_320': 'https://sun9-27.userapi.com/c849136/v849136073/16c9dd/P8_5ZmbLE00.jpg',\n",
       "       'photo_640': 'https://sun9-43.userapi.com/c849136/v849136073/16c9de/mu7H0ubzWX8.jpg',\n",
       "       'photo_800': 'https://sun9-43.userapi.com/c849136/v849136073/16c9de/mu7H0ubzWX8.jpg',\n",
       "       'id': 456239076,\n",
       "       'owner_id': -38369814,\n",
       "       'title': 'Кевин Харт - Мода на Негатив | Подкаст Джо Рогана',\n",
       "       'track_code': 'video_dfd21c5blyHdnecT0QC7mZ7c3_vgKJMbO1ffDB9oYH-ZffqFu06sCsGagBLVALWaqoPrztYa',\n",
       "       'views': 182,\n",
       "       'local_views': 182,\n",
       "       'platform': 'YouTube'}}],\n",
       "    'post_source': {'type': 'vk'},\n",
       "    'comments': {'count': 9, 'can_post': 1},\n",
       "    'likes': {'count': 47, 'user_likes': 0, 'can_like': 1, 'can_publish': 1},\n",
       "    'reposts': {'count': 6, 'user_reposted': 0}},\n",
       "   {'id': 23328,\n",
       "    'from_id': -38369814,\n",
       "    'owner_id': -38369814,\n",
       "    'date': 1585607817,\n",
       "    'marked_as_ads': 0,\n",
       "    'post_type': 'post',\n",
       "    'text': 'Написал короткую инструкцию по папкам в Телеграме и снял видео\\n\\nhttps://freesmm.ru/telegram/kak-nastroit-papki-v-telegrame\\n\\nОграничения папок Телеграм \\n- ограничение по количеству символов на название папки: 12 символов \\n- ограничение на количество папок: до 10 штук \\n- ограничение на количество чатов и каналов в одну папку: до 100 штук',\n",
       "    'attachments': [{'type': 'link',\n",
       "      'link': {'url': 'https://freesmm.ru/telegram/kak-nastroit-papki-v-telegrame',\n",
       "       'title': 'Как настроить папки в Телеграме',\n",
       "       'caption': 'freesmm.ru',\n",
       "       'description': 'Начиная с версии приложения 6.0 для iOS и версии 2.0 для настольных компьютеров в Телеграм стали доступны папки, которые позволяют сделать удобный каталог каналов и чатов. Watch this video on YouTube Оглавление 1 Как включить папки в Телеграм на компьютере 2 Как добавить новую папку в Телеграме 3 Ограничения папок Телеграм Как включить папки в …',\n",
       "       'is_external': 0,\n",
       "       'photo': {'id': 457290333,\n",
       "        'album_id': -25,\n",
       "        'owner_id': 2000014110,\n",
       "        'photo_75': False,\n",
       "        'photo_130': False,\n",
       "        'photo_604': False,\n",
       "        'text': '',\n",
       "        'date': 1585607817}}}],\n",
       "    'post_source': {'type': 'vk'},\n",
       "    'comments': {'count': 0, 'can_post': 1},\n",
       "    'likes': {'count': 11, 'user_likes': 0, 'can_like': 1, 'can_publish': 1},\n",
       "    'reposts': {'count': 1, 'user_reposted': 0}}]}}"
      ]
     },
     "execution_count": 80,
     "metadata": {},
     "output_type": "execute_result"
    }
   ],
   "source": [
    "import requests\n",
    "r = requests.get('https://api.vk.com/method/wall.get',params={'owner_id':-38369814,'count':2, 'v':'5.52','access_token':'ae52015191fc8a8e1d98193433eaa638828ea5eac6b936d947eb5379a007395163c39e6d7fe796ccf0a99'}) #Получим информацию о 2х постах\n",
    "r.json()"
   ]
  },
  {
   "cell_type": "code",
   "execution_count": 83,
   "metadata": {},
   "outputs": [
    {
     "name": "stdout",
     "output_type": "stream",
     "text": [
      "{'error': {'error_code': 6, 'error_msg': 'Too many requests per second', 'request_params': [{'key': 'user_ids', 'value': '1'}, {'key': 'fields', 'value': 'followers_count, sex'}, {'key': 'v', 'value': '5.52'}, {'key': 'method', 'value': 'users.get'}, {'key': 'oauth', 'value': '1'}]}}\n",
      "{'error': {'error_code': 6, 'error_msg': 'Too many requests per second', 'request_params': [{'key': 'user_ids', 'value': '2'}, {'key': 'fields', 'value': 'followers_count, sex'}, {'key': 'v', 'value': '5.52'}, {'key': 'method', 'value': 'users.get'}, {'key': 'oauth', 'value': '1'}]}}\n",
      "{'error': {'error_code': 6, 'error_msg': 'Too many requests per second', 'request_params': [{'key': 'user_ids', 'value': '3'}, {'key': 'fields', 'value': 'followers_count, sex'}, {'key': 'v', 'value': '5.52'}, {'key': 'method', 'value': 'users.get'}, {'key': 'oauth', 'value': '1'}]}}\n",
      "{'error': {'error_code': 6, 'error_msg': 'Too many requests per second', 'request_params': [{'key': 'user_ids', 'value': '4'}, {'key': 'fields', 'value': 'followers_count, sex'}, {'key': 'v', 'value': '5.52'}, {'key': 'method', 'value': 'users.get'}, {'key': 'oauth', 'value': '1'}]}}\n",
      "{'error': {'error_code': 6, 'error_msg': 'Too many requests per second', 'request_params': [{'key': 'user_ids', 'value': '5'}, {'key': 'fields', 'value': 'followers_count, sex'}, {'key': 'v', 'value': '5.52'}, {'key': 'method', 'value': 'users.get'}, {'key': 'oauth', 'value': '1'}]}}\n",
      "{'error': {'error_code': 6, 'error_msg': 'Too many requests per second', 'request_params': [{'key': 'user_ids', 'value': '6'}, {'key': 'fields', 'value': 'followers_count, sex'}, {'key': 'v', 'value': '5.52'}, {'key': 'method', 'value': 'users.get'}, {'key': 'oauth', 'value': '1'}]}}\n",
      "{'error': {'error_code': 6, 'error_msg': 'Too many requests per second', 'request_params': [{'key': 'user_ids', 'value': '7'}, {'key': 'fields', 'value': 'followers_count, sex'}, {'key': 'v', 'value': '5.52'}, {'key': 'method', 'value': 'users.get'}, {'key': 'oauth', 'value': '1'}]}}\n",
      "{'error': {'error_code': 6, 'error_msg': 'Too many requests per second', 'request_params': [{'key': 'user_ids', 'value': '8'}, {'key': 'fields', 'value': 'followers_count, sex'}, {'key': 'v', 'value': '5.52'}, {'key': 'method', 'value': 'users.get'}, {'key': 'oauth', 'value': '1'}]}}\n",
      "{'error': {'error_code': 6, 'error_msg': 'Too many requests per second', 'request_params': [{'key': 'user_ids', 'value': '9'}, {'key': 'fields', 'value': 'followers_count, sex'}, {'key': 'v', 'value': '5.52'}, {'key': 'method', 'value': 'users.get'}, {'key': 'oauth', 'value': '1'}]}}\n",
      "{'error': {'error_code': 6, 'error_msg': 'Too many requests per second', 'request_params': [{'key': 'user_ids', 'value': '10'}, {'key': 'fields', 'value': 'followers_count, sex'}, {'key': 'v', 'value': '5.52'}, {'key': 'method', 'value': 'users.get'}, {'key': 'oauth', 'value': '1'}]}}\n",
      "{'error': {'error_code': 6, 'error_msg': 'Too many requests per second', 'request_params': [{'key': 'user_ids', 'value': '11'}, {'key': 'fields', 'value': 'followers_count, sex'}, {'key': 'v', 'value': '5.52'}, {'key': 'method', 'value': 'users.get'}, {'key': 'oauth', 'value': '1'}]}}\n",
      "{'response': [{'id': 12, 'first_name': 'DELETED', 'last_name': '', 'deactivated': 'deleted', 'sex': 2}]}\n",
      "{'response': [{'id': 13, 'first_name': 'DELETED', 'last_name': '', 'deactivated': 'deleted', 'sex': 0}]}\n",
      "{'response': [{'id': 14, 'first_name': 'Андрей', 'last_name': 'Городецкий', 'sex': 2, 'followers_count': 4921}]}\n",
      "{'response': [{'id': 15, 'first_name': 'Сергей', 'last_name': 'Васильков', 'sex': 2, 'followers_count': 608}]}\n",
      "{'response': [{'id': 16, 'first_name': 'Виктория', 'last_name': 'Беспалова', 'sex': 1}]}\n",
      "{'response': [{'id': 17, 'first_name': 'Александр', 'last_name': 'Беспалов', 'sex': 2, 'followers_count': 4192}]}\n",
      "{'response': [{'id': 18, 'first_name': 'Симон', 'last_name': 'Кречмер', 'sex': 2, 'followers_count': 2263}]}\n",
      "{'response': [{'id': 19, 'first_name': 'Светочек', 'last_name': 'Аленький', 'sex': 1, 'followers_count': 32840}]}\n",
      "{'response': [{'id': 20, 'first_name': 'Илья', 'last_name': 'Турпиашвили', 'sex': 2, 'followers_count': 9299}]}\n",
      "{'error': {'error_code': 6, 'error_msg': 'Too many requests per second', 'request_params': [{'key': 'user_ids', 'value': '21'}, {'key': 'fields', 'value': 'followers_count, sex'}, {'key': 'v', 'value': '5.52'}, {'key': 'method', 'value': 'users.get'}, {'key': 'oauth', 'value': '1'}]}}\n",
      "{'error': {'error_code': 6, 'error_msg': 'Too many requests per second', 'request_params': [{'key': 'user_ids', 'value': '22'}, {'key': 'fields', 'value': 'followers_count, sex'}, {'key': 'v', 'value': '5.52'}, {'key': 'method', 'value': 'users.get'}, {'key': 'oauth', 'value': '1'}]}}\n",
      "{'error': {'error_code': 6, 'error_msg': 'Too many requests per second', 'request_params': [{'key': 'user_ids', 'value': '23'}, {'key': 'fields', 'value': 'followers_count, sex'}, {'key': 'v', 'value': '5.52'}, {'key': 'method', 'value': 'users.get'}, {'key': 'oauth', 'value': '1'}]}}\n",
      "{'error': {'error_code': 6, 'error_msg': 'Too many requests per second', 'request_params': [{'key': 'user_ids', 'value': '24'}, {'key': 'fields', 'value': 'followers_count, sex'}, {'key': 'v', 'value': '5.52'}, {'key': 'method', 'value': 'users.get'}, {'key': 'oauth', 'value': '1'}]}}\n",
      "{'error': {'error_code': 6, 'error_msg': 'Too many requests per second', 'request_params': [{'key': 'user_ids', 'value': '25'}, {'key': 'fields', 'value': 'followers_count, sex'}, {'key': 'v', 'value': '5.52'}, {'key': 'method', 'value': 'users.get'}, {'key': 'oauth', 'value': '1'}]}}\n",
      "{'error': {'error_code': 6, 'error_msg': 'Too many requests per second', 'request_params': [{'key': 'user_ids', 'value': '26'}, {'key': 'fields', 'value': 'followers_count, sex'}, {'key': 'v', 'value': '5.52'}, {'key': 'method', 'value': 'users.get'}, {'key': 'oauth', 'value': '1'}]}}\n",
      "{'error': {'error_code': 6, 'error_msg': 'Too many requests per second', 'request_params': [{'key': 'user_ids', 'value': '27'}, {'key': 'fields', 'value': 'followers_count, sex'}, {'key': 'v', 'value': '5.52'}, {'key': 'method', 'value': 'users.get'}, {'key': 'oauth', 'value': '1'}]}}\n",
      "{'error': {'error_code': 6, 'error_msg': 'Too many requests per second', 'request_params': [{'key': 'user_ids', 'value': '28'}, {'key': 'fields', 'value': 'followers_count, sex'}, {'key': 'v', 'value': '5.52'}, {'key': 'method', 'value': 'users.get'}, {'key': 'oauth', 'value': '1'}]}}\n",
      "{'error': {'error_code': 6, 'error_msg': 'Too many requests per second', 'request_params': [{'key': 'user_ids', 'value': '29'}, {'key': 'fields', 'value': 'followers_count, sex'}, {'key': 'v', 'value': '5.52'}, {'key': 'method', 'value': 'users.get'}, {'key': 'oauth', 'value': '1'}]}}\n",
      "{'error': {'error_code': 6, 'error_msg': 'Too many requests per second', 'request_params': [{'key': 'user_ids', 'value': '30'}, {'key': 'fields', 'value': 'followers_count, sex'}, {'key': 'v', 'value': '5.52'}, {'key': 'method', 'value': 'users.get'}, {'key': 'oauth', 'value': '1'}]}}\n",
      "{'response': [{'id': 31, 'first_name': 'DELETED', 'last_name': '', 'deactivated': 'deleted', 'sex': 0}]}\n",
      "{'response': [{'id': 32, 'first_name': 'DELETED', 'last_name': '', 'deactivated': 'deleted', 'sex': 0}]}\n",
      "{'response': [{'id': 33, 'first_name': 'DELETED', 'last_name': '', 'deactivated': 'deleted', 'sex': 0}]}\n",
      "{'response': [{'id': 34, 'first_name': 'Татьяна', 'last_name': 'Плуталова', 'sex': 1, 'followers_count': 70507}]}\n",
      "{'response': [{'id': 35, 'first_name': 'DELETED', 'last_name': '', 'deactivated': 'deleted', 'sex': 0}]}\n",
      "{'response': [{'id': 36, 'first_name': 'Иван', 'last_name': 'Смирнов', 'sex': 2, 'followers_count': 1381}]}\n",
      "{'response': [{'id': 37, 'first_name': 'Михаил', 'last_name': 'Казекин', 'sex': 2, 'followers_count': 2564}]}\n",
      "{'response': [{'id': 38, 'first_name': 'DELETED', 'last_name': '', 'deactivated': 'deleted', 'sex': 0}]}\n",
      "{'response': [{'id': 39, 'first_name': 'David', 'last_name': 'Mirelli', 'sex': 2, 'followers_count': 2819}]}\n",
      "{'error': {'error_code': 6, 'error_msg': 'Too many requests per second', 'request_params': [{'key': 'user_ids', 'value': '40'}, {'key': 'fields', 'value': 'followers_count, sex'}, {'key': 'v', 'value': '5.52'}, {'key': 'method', 'value': 'users.get'}, {'key': 'oauth', 'value': '1'}]}}\n",
      "{'error': {'error_code': 6, 'error_msg': 'Too many requests per second', 'request_params': [{'key': 'user_ids', 'value': '41'}, {'key': 'fields', 'value': 'followers_count, sex'}, {'key': 'v', 'value': '5.52'}, {'key': 'method', 'value': 'users.get'}, {'key': 'oauth', 'value': '1'}]}}\n"
     ]
    },
    {
     "name": "stdout",
     "output_type": "stream",
     "text": [
      "{'error': {'error_code': 6, 'error_msg': 'Too many requests per second', 'request_params': [{'key': 'user_ids', 'value': '42'}, {'key': 'fields', 'value': 'followers_count, sex'}, {'key': 'v', 'value': '5.52'}, {'key': 'method', 'value': 'users.get'}, {'key': 'oauth', 'value': '1'}]}}\n",
      "{'error': {'error_code': 6, 'error_msg': 'Too many requests per second', 'request_params': [{'key': 'user_ids', 'value': '43'}, {'key': 'fields', 'value': 'followers_count, sex'}, {'key': 'v', 'value': '5.52'}, {'key': 'method', 'value': 'users.get'}, {'key': 'oauth', 'value': '1'}]}}\n",
      "{'error': {'error_code': 6, 'error_msg': 'Too many requests per second', 'request_params': [{'key': 'user_ids', 'value': '44'}, {'key': 'fields', 'value': 'followers_count, sex'}, {'key': 'v', 'value': '5.52'}, {'key': 'method', 'value': 'users.get'}, {'key': 'oauth', 'value': '1'}]}}\n",
      "{'error': {'error_code': 6, 'error_msg': 'Too many requests per second', 'request_params': [{'key': 'user_ids', 'value': '45'}, {'key': 'fields', 'value': 'followers_count, sex'}, {'key': 'v', 'value': '5.52'}, {'key': 'method', 'value': 'users.get'}, {'key': 'oauth', 'value': '1'}]}}\n",
      "{'error': {'error_code': 6, 'error_msg': 'Too many requests per second', 'request_params': [{'key': 'user_ids', 'value': '46'}, {'key': 'fields', 'value': 'followers_count, sex'}, {'key': 'v', 'value': '5.52'}, {'key': 'method', 'value': 'users.get'}, {'key': 'oauth', 'value': '1'}]}}\n",
      "{'error': {'error_code': 6, 'error_msg': 'Too many requests per second', 'request_params': [{'key': 'user_ids', 'value': '47'}, {'key': 'fields', 'value': 'followers_count, sex'}, {'key': 'v', 'value': '5.52'}, {'key': 'method', 'value': 'users.get'}, {'key': 'oauth', 'value': '1'}]}}\n",
      "{'error': {'error_code': 6, 'error_msg': 'Too many requests per second', 'request_params': [{'key': 'user_ids', 'value': '48'}, {'key': 'fields', 'value': 'followers_count, sex'}, {'key': 'v', 'value': '5.52'}, {'key': 'method', 'value': 'users.get'}, {'key': 'oauth', 'value': '1'}]}}\n",
      "{'error': {'error_code': 6, 'error_msg': 'Too many requests per second', 'request_params': [{'key': 'user_ids', 'value': '49'}, {'key': 'fields', 'value': 'followers_count, sex'}, {'key': 'v', 'value': '5.52'}, {'key': 'method', 'value': 'users.get'}, {'key': 'oauth', 'value': '1'}]}}\n",
      "{'error': {'error_code': 6, 'error_msg': 'Too many requests per second', 'request_params': [{'key': 'user_ids', 'value': '50'}, {'key': 'fields', 'value': 'followers_count, sex'}, {'key': 'v', 'value': '5.52'}, {'key': 'method', 'value': 'users.get'}, {'key': 'oauth', 'value': '1'}]}}\n",
      "{'error': {'error_code': 6, 'error_msg': 'Too many requests per second', 'request_params': [{'key': 'user_ids', 'value': '51'}, {'key': 'fields', 'value': 'followers_count, sex'}, {'key': 'v', 'value': '5.52'}, {'key': 'method', 'value': 'users.get'}, {'key': 'oauth', 'value': '1'}]}}\n",
      "{'error': {'error_code': 6, 'error_msg': 'Too many requests per second', 'request_params': [{'key': 'user_ids', 'value': '52'}, {'key': 'fields', 'value': 'followers_count, sex'}, {'key': 'v', 'value': '5.52'}, {'key': 'method', 'value': 'users.get'}, {'key': 'oauth', 'value': '1'}]}}\n",
      "{'response': [{'id': 53, 'first_name': 'DELETED', 'last_name': '', 'deactivated': 'deleted', 'sex': 0}]}\n",
      "{'response': [{'id': 54, 'first_name': 'Екатерина', 'last_name': 'Фуртикова', 'sex': 1, 'followers_count': 4793}]}\n",
      "{'response': [{'id': 55, 'first_name': 'Андрей', 'last_name': 'Смирнов', 'sex': 2, 'followers_count': 2311}]}\n",
      "{'response': [{'id': 56, 'first_name': 'Андрей', 'last_name': 'Чернышев', 'sex': 2, 'followers_count': 712}]}\n",
      "{'response': [{'id': 57, 'first_name': 'Сергей', 'last_name': 'Владимиров', 'sex': 2}]}\n",
      "{'response': [{'id': 58, 'first_name': 'Александр', 'last_name': 'Ковалев', 'deactivated': 'banned', 'sex': 2}]}\n",
      "{'response': [{'id': 59, 'first_name': 'Анастасия', 'last_name': 'Желудкова', 'sex': 1, 'followers_count': 4186}]}\n",
      "{'response': [{'id': 60, 'first_name': 'Даниэль', 'last_name': 'Розенберг', 'sex': 2}]}\n",
      "{'response': [{'id': 61, 'first_name': 'Григорий', 'last_name': 'Конрадт', 'sex': 2, 'followers_count': 1593}]}\n",
      "{'error': {'error_code': 6, 'error_msg': 'Too many requests per second', 'request_params': [{'key': 'user_ids', 'value': '62'}, {'key': 'fields', 'value': 'followers_count, sex'}, {'key': 'v', 'value': '5.52'}, {'key': 'method', 'value': 'users.get'}, {'key': 'oauth', 'value': '1'}]}}\n",
      "{'error': {'error_code': 6, 'error_msg': 'Too many requests per second', 'request_params': [{'key': 'user_ids', 'value': '63'}, {'key': 'fields', 'value': 'followers_count, sex'}, {'key': 'v', 'value': '5.52'}, {'key': 'method', 'value': 'users.get'}, {'key': 'oauth', 'value': '1'}]}}\n",
      "{'error': {'error_code': 6, 'error_msg': 'Too many requests per second', 'request_params': [{'key': 'user_ids', 'value': '64'}, {'key': 'fields', 'value': 'followers_count, sex'}, {'key': 'v', 'value': '5.52'}, {'key': 'method', 'value': 'users.get'}, {'key': 'oauth', 'value': '1'}]}}\n",
      "{'error': {'error_code': 6, 'error_msg': 'Too many requests per second', 'request_params': [{'key': 'user_ids', 'value': '65'}, {'key': 'fields', 'value': 'followers_count, sex'}, {'key': 'v', 'value': '5.52'}, {'key': 'method', 'value': 'users.get'}, {'key': 'oauth', 'value': '1'}]}}\n",
      "{'error': {'error_code': 6, 'error_msg': 'Too many requests per second', 'request_params': [{'key': 'user_ids', 'value': '66'}, {'key': 'fields', 'value': 'followers_count, sex'}, {'key': 'v', 'value': '5.52'}, {'key': 'method', 'value': 'users.get'}, {'key': 'oauth', 'value': '1'}]}}\n",
      "{'error': {'error_code': 6, 'error_msg': 'Too many requests per second', 'request_params': [{'key': 'user_ids', 'value': '67'}, {'key': 'fields', 'value': 'followers_count, sex'}, {'key': 'v', 'value': '5.52'}, {'key': 'method', 'value': 'users.get'}, {'key': 'oauth', 'value': '1'}]}}\n",
      "{'error': {'error_code': 6, 'error_msg': 'Too many requests per second', 'request_params': [{'key': 'user_ids', 'value': '68'}, {'key': 'fields', 'value': 'followers_count, sex'}, {'key': 'v', 'value': '5.52'}, {'key': 'method', 'value': 'users.get'}, {'key': 'oauth', 'value': '1'}]}}\n",
      "{'error': {'error_code': 6, 'error_msg': 'Too many requests per second', 'request_params': [{'key': 'user_ids', 'value': '69'}, {'key': 'fields', 'value': 'followers_count, sex'}, {'key': 'v', 'value': '5.52'}, {'key': 'method', 'value': 'users.get'}, {'key': 'oauth', 'value': '1'}]}}\n",
      "{'error': {'error_code': 6, 'error_msg': 'Too many requests per second', 'request_params': [{'key': 'user_ids', 'value': '70'}, {'key': 'fields', 'value': 'followers_count, sex'}, {'key': 'v', 'value': '5.52'}, {'key': 'method', 'value': 'users.get'}, {'key': 'oauth', 'value': '1'}]}}\n",
      "{'error': {'error_code': 6, 'error_msg': 'Too many requests per second', 'request_params': [{'key': 'user_ids', 'value': '71'}, {'key': 'fields', 'value': 'followers_count, sex'}, {'key': 'v', 'value': '5.52'}, {'key': 'method', 'value': 'users.get'}, {'key': 'oauth', 'value': '1'}]}}\n",
      "{'error': {'error_code': 6, 'error_msg': 'Too many requests per second', 'request_params': [{'key': 'user_ids', 'value': '72'}, {'key': 'fields', 'value': 'followers_count, sex'}, {'key': 'v', 'value': '5.52'}, {'key': 'method', 'value': 'users.get'}, {'key': 'oauth', 'value': '1'}]}}\n",
      "{'response': [{'id': 73, 'first_name': 'Надежда', 'last_name': 'Лебедева', 'sex': 1}]}\n",
      "{'response': [{'id': 74, 'first_name': 'Наташа', 'last_name': 'Филимонова', 'sex': 1, 'followers_count': 3198}]}\n",
      "{'response': [{'id': 75, 'first_name': 'Екатерина', 'last_name': 'Копылова', 'sex': 1, 'followers_count': 4905}]}\n",
      "{'response': [{'id': 76, 'first_name': 'David', 'last_name': 'Biniaurischwili', 'deactivated': 'banned', 'sex': 2}]}\n",
      "{'response': [{'id': 77, 'first_name': 'DELETED', 'last_name': '', 'deactivated': 'deleted', 'sex': 0}]}\n",
      "{'response': [{'id': 78, 'first_name': 'Анна', 'last_name': 'Руднева', 'sex': 1}]}\n",
      "{'response': [{'id': 79, 'first_name': 'Давид', 'last_name': 'Спектер', 'deactivated': 'banned', 'sex': 2}]}\n",
      "{'response': [{'id': 80, 'first_name': 'DELETED', 'last_name': '', 'deactivated': 'deleted', 'sex': 0}]}\n",
      "{'response': [{'id': 81, 'first_name': 'Влад', 'last_name': 'Куценко', 'deactivated': 'banned', 'sex': 2}]}\n",
      "{'error': {'error_code': 6, 'error_msg': 'Too many requests per second', 'request_params': [{'key': 'user_ids', 'value': '82'}, {'key': 'fields', 'value': 'followers_count, sex'}, {'key': 'v', 'value': '5.52'}, {'key': 'method', 'value': 'users.get'}, {'key': 'oauth', 'value': '1'}]}}\n"
     ]
    },
    {
     "name": "stdout",
     "output_type": "stream",
     "text": [
      "{'error': {'error_code': 6, 'error_msg': 'Too many requests per second', 'request_params': [{'key': 'user_ids', 'value': '83'}, {'key': 'fields', 'value': 'followers_count, sex'}, {'key': 'v', 'value': '5.52'}, {'key': 'method', 'value': 'users.get'}, {'key': 'oauth', 'value': '1'}]}}\n",
      "{'error': {'error_code': 6, 'error_msg': 'Too many requests per second', 'request_params': [{'key': 'user_ids', 'value': '84'}, {'key': 'fields', 'value': 'followers_count, sex'}, {'key': 'v', 'value': '5.52'}, {'key': 'method', 'value': 'users.get'}, {'key': 'oauth', 'value': '1'}]}}\n",
      "{'error': {'error_code': 6, 'error_msg': 'Too many requests per second', 'request_params': [{'key': 'user_ids', 'value': '85'}, {'key': 'fields', 'value': 'followers_count, sex'}, {'key': 'v', 'value': '5.52'}, {'key': 'method', 'value': 'users.get'}, {'key': 'oauth', 'value': '1'}]}}\n",
      "{'error': {'error_code': 6, 'error_msg': 'Too many requests per second', 'request_params': [{'key': 'user_ids', 'value': '86'}, {'key': 'fields', 'value': 'followers_count, sex'}, {'key': 'v', 'value': '5.52'}, {'key': 'method', 'value': 'users.get'}, {'key': 'oauth', 'value': '1'}]}}\n",
      "{'error': {'error_code': 6, 'error_msg': 'Too many requests per second', 'request_params': [{'key': 'user_ids', 'value': '87'}, {'key': 'fields', 'value': 'followers_count, sex'}, {'key': 'v', 'value': '5.52'}, {'key': 'method', 'value': 'users.get'}, {'key': 'oauth', 'value': '1'}]}}\n",
      "{'error': {'error_code': 6, 'error_msg': 'Too many requests per second', 'request_params': [{'key': 'user_ids', 'value': '88'}, {'key': 'fields', 'value': 'followers_count, sex'}, {'key': 'v', 'value': '5.52'}, {'key': 'method', 'value': 'users.get'}, {'key': 'oauth', 'value': '1'}]}}\n",
      "{'error': {'error_code': 6, 'error_msg': 'Too many requests per second', 'request_params': [{'key': 'user_ids', 'value': '89'}, {'key': 'fields', 'value': 'followers_count, sex'}, {'key': 'v', 'value': '5.52'}, {'key': 'method', 'value': 'users.get'}, {'key': 'oauth', 'value': '1'}]}}\n",
      "{'error': {'error_code': 6, 'error_msg': 'Too many requests per second', 'request_params': [{'key': 'user_ids', 'value': '90'}, {'key': 'fields', 'value': 'followers_count, sex'}, {'key': 'v', 'value': '5.52'}, {'key': 'method', 'value': 'users.get'}, {'key': 'oauth', 'value': '1'}]}}\n",
      "{'error': {'error_code': 6, 'error_msg': 'Too many requests per second', 'request_params': [{'key': 'user_ids', 'value': '91'}, {'key': 'fields', 'value': 'followers_count, sex'}, {'key': 'v', 'value': '5.52'}, {'key': 'method', 'value': 'users.get'}, {'key': 'oauth', 'value': '1'}]}}\n",
      "{'error': {'error_code': 6, 'error_msg': 'Too many requests per second', 'request_params': [{'key': 'user_ids', 'value': '92'}, {'key': 'fields', 'value': 'followers_count, sex'}, {'key': 'v', 'value': '5.52'}, {'key': 'method', 'value': 'users.get'}, {'key': 'oauth', 'value': '1'}]}}\n",
      "{'response': [{'id': 93, 'first_name': 'Анна', 'last_name': 'Забоева', 'sex': 1, 'followers_count': 2681}]}\n",
      "{'response': [{'id': 94, 'first_name': 'Екатерина', 'last_name': 'Теплова', 'sex': 1, 'followers_count': 3219}]}\n",
      "{'response': [{'id': 95, 'first_name': 'DELETED', 'last_name': '', 'deactivated': 'deleted', 'sex': 0}]}\n",
      "{'response': [{'id': 96, 'first_name': 'DELETED', 'last_name': '', 'deactivated': 'deleted', 'sex': 0}]}\n",
      "{'response': [{'id': 97, 'first_name': 'DELETED', 'last_name': '', 'deactivated': 'deleted', 'sex': 0}]}\n",
      "{'response': [{'id': 98, 'first_name': 'DELETED', 'last_name': '', 'deactivated': 'deleted', 'sex': 0}]}\n",
      "{'response': [{'id': 99, 'first_name': 'Наталья', 'last_name': 'Брагина', 'sex': 1}]}\n"
     ]
    }
   ],
   "source": [
    "import requests\n",
    "i = 1\n",
    "while i < 100:\n",
    "    r = requests.get('https://api.vk.com/method/users.get',params={'user_ids':i,'fields':'followers_count, sex','v':'5.52','access_token':'ae52015191fc8a8e1d98193433eaa638828ea5eac6b936d947eb5379a007395163c39e6d7fe796ccf0a99'})\n",
    "    print(r.json())\n",
    "    i=i+1"
   ]
  },
  {
   "cell_type": "code",
   "execution_count": 2,
   "metadata": {},
   "outputs": [
    {
     "name": "stdout",
     "output_type": "stream",
     "text": [
      "{'response': [{'id': 65732576, 'first_name': 'Стася', 'last_name': 'Александровская', 'online': 0, 'last_seen': {'time': 1586625795, 'platform': 2}, 'followers_count': 319, 'relation': 0}]}\n"
     ]
    }
   ],
   "source": [
    "import requests\n",
    "user_id='stasyaaleks'\n",
    "r = requests.get('https://api.vk.com/method/users.get',params={'user_ids':user_id,\n",
    "                                                               'fields':'followers_count,relation,online,last_seen','v':'5.52','access_token':'ae52015191fc8a8e1d98193433eaa638828ea5eac6b936d947eb5379a007395163c39e6d7fe796ccf0a99'})\n",
    "print(r.json())"
   ]
  },
  {
   "cell_type": "code",
   "execution_count": 4,
   "metadata": {},
   "outputs": [
    {
     "data": {
      "text/plain": [
       "{'response': [{'id': 65732576,\n",
       "   'first_name': 'Стася',\n",
       "   'last_name': 'Александровская',\n",
       "   'university': 527,\n",
       "   'university_name': 'КФУ (бывш. КГУ им. Ульянова-Ленина)',\n",
       "   'faculty': 2138933,\n",
       "   'faculty_name': 'Высшая школа информационных технологий и интеллектуальных систем',\n",
       "   'graduation': 2021}]}"
      ]
     },
     "execution_count": 4,
     "metadata": {},
     "output_type": "execute_result"
    }
   ],
   "source": [
    "import requests\n",
    "token = \"ae52015191fc8a8e1d98193433eaa638828ea5eac6b936d947eb5379a007395163c39e6d7fe796ccf0a99\"\n",
    "base_url = \"https://api.vk.com/method\"\n",
    "r = requests.get(f\"{base_url}/users.get?user_ids=stasyaaleks&fields=education&access_token={token}&v=5.80\")\n",
    "r.json()"
   ]
  },
  {
   "cell_type": "code",
   "execution_count": 13,
   "metadata": {},
   "outputs": [
    {
     "name": "stdout",
     "output_type": "stream",
     "text": [
      "{'response': [{'id': 1, 'first_name': 'Павел', 'last_name': 'Дуров', 'sex': 2, 'university': 1, 'university_name': 'СПбГУ', 'faculty': 0, 'faculty_name': '', 'graduation': 2006}]}\n",
      "{'response': [{'id': 2, 'first_name': 'Александра', 'last_name': 'Владимирова', 'sex': 1}]}\n",
      "{'response': [{'id': 3, 'first_name': 'DELETED', 'last_name': '', 'deactivated': 'deleted', 'sex': 0}]}\n",
      "{'response': [{'id': 4, 'first_name': 'DELETED', 'last_name': '', 'deactivated': 'deleted', 'sex': 0}]}\n",
      "{'response': [{'id': 5, 'first_name': 'Илья', 'last_name': 'Перекопский', 'sex': 2}]}\n",
      "{'response': [{'id': 6, 'first_name': 'Николай', 'last_name': 'Дуров', 'sex': 2}]}\n",
      "{'response': [{'id': 7, 'first_name': 'Алексей', 'last_name': 'Кобылянский', 'sex': 2}]}\n",
      "{'response': [{'id': 8, 'first_name': 'Аки', 'last_name': 'Сепиашвили', 'sex': 2, 'university': 233160, 'university_name': 'АУ МВД Украины', 'faculty': 0, 'faculty_name': '', 'graduation': 2012, 'education_form': 'Заочное отделение', 'education_status': 'Выпускник (бакалавр)'}]}\n",
      "{'response': [{'id': 9, 'first_name': 'Настя', 'last_name': 'Васильева', 'sex': 1}]}\n",
      "{'error': {'error_code': 6, 'error_msg': 'Too many requests per second', 'request_params': [{'key': 'user_ids', 'value': '10'}, {'key': 'fields', 'value': 'education, sex'}, {'key': 'v', 'value': '5.52'}, {'key': 'method', 'value': 'users.get'}, {'key': 'oauth', 'value': '1'}]}}\n",
      "{'response': [{'id': 11, 'first_name': 'Михаил', 'last_name': 'Петров', 'sex': 2, 'university': 0, 'university_name': '', 'faculty': 0, 'faculty_name': '', 'graduation': 0}]}\n",
      "{'response': [{'id': 12, 'first_name': 'DELETED', 'last_name': '', 'deactivated': 'deleted', 'sex': 2}]}\n",
      "{'response': [{'id': 13, 'first_name': 'DELETED', 'last_name': '', 'deactivated': 'deleted', 'sex': 0}]}\n",
      "{'response': [{'id': 14, 'first_name': 'Андрей', 'last_name': 'Городецкий', 'sex': 2, 'university': 1, 'university_name': 'СПбГУ', 'faculty': 14, 'faculty_name': 'Физический факультет', 'graduation': 2006, 'education_form': 'Очное отделение', 'education_status': 'Выпускник (магистр)'}]}\n",
      "{'response': [{'id': 15, 'first_name': 'Сергей', 'last_name': 'Васильков', 'sex': 2}]}\n",
      "{'response': [{'id': 16, 'first_name': 'Виктория', 'last_name': 'Беспалова', 'sex': 1}]}\n",
      "{'response': [{'id': 17, 'first_name': 'Александр', 'last_name': 'Беспалов', 'sex': 2}]}\n",
      "{'response': [{'id': 18, 'first_name': 'Симон', 'last_name': 'Кречмер', 'sex': 2}]}\n",
      "{'response': [{'id': 19, 'first_name': 'Светочек', 'last_name': 'Аленький', 'sex': 1}]}\n",
      "{'error': {'error_code': 6, 'error_msg': 'Too many requests per second', 'request_params': [{'key': 'user_ids', 'value': '20'}, {'key': 'fields', 'value': 'education, sex'}, {'key': 'v', 'value': '5.52'}, {'key': 'method', 'value': 'users.get'}, {'key': 'oauth', 'value': '1'}]}}\n",
      "{'error': {'error_code': 6, 'error_msg': 'Too many requests per second', 'request_params': [{'key': 'user_ids', 'value': '21'}, {'key': 'fields', 'value': 'education, sex'}, {'key': 'v', 'value': '5.52'}, {'key': 'method', 'value': 'users.get'}, {'key': 'oauth', 'value': '1'}]}}\n",
      "{'error': {'error_code': 6, 'error_msg': 'Too many requests per second', 'request_params': [{'key': 'user_ids', 'value': '22'}, {'key': 'fields', 'value': 'education, sex'}, {'key': 'v', 'value': '5.52'}, {'key': 'method', 'value': 'users.get'}, {'key': 'oauth', 'value': '1'}]}}\n",
      "{'error': {'error_code': 6, 'error_msg': 'Too many requests per second', 'request_params': [{'key': 'user_ids', 'value': '23'}, {'key': 'fields', 'value': 'education, sex'}, {'key': 'v', 'value': '5.52'}, {'key': 'method', 'value': 'users.get'}, {'key': 'oauth', 'value': '1'}]}}\n",
      "{'response': [{'id': 24, 'first_name': 'Рамми', 'last_name': 'Цицуашвили', 'sex': 2, 'university': 1173072, 'university_name': 'СПбГЭУ', 'faculty': 2162001, 'faculty_name': 'Факультет экономики и финансов', 'graduation': 2007, 'education_form': 'Очное отделение', 'education_status': 'Выпускник (бакалавр)'}]}\n",
      "{'response': [{'id': 25, 'first_name': 'Анастасия', 'last_name': 'Ведущенко', 'sex': 1}]}\n",
      "{'response': [{'id': 26, 'first_name': 'DELETED', 'last_name': '', 'deactivated': 'deleted', 'sex': 0}]}\n",
      "{'response': [{'id': 27, 'first_name': 'Юлия', 'last_name': 'Семиколенова', 'sex': 1}]}\n",
      "{'response': [{'id': 28, 'first_name': 'DELETED', 'last_name': '', 'deactivated': 'deleted', 'sex': 0}]}\n",
      "{'response': [{'id': 29, 'first_name': 'DELETED', 'last_name': '', 'deactivated': 'deleted', 'sex': 0}]}\n",
      "{'response': [{'id': 30, 'first_name': 'DELETED', 'last_name': '', 'deactivated': 'deleted', 'sex': 0}]}\n",
      "{'response': [{'id': 31, 'first_name': 'DELETED', 'last_name': '', 'deactivated': 'deleted', 'sex': 0}]}\n",
      "{'response': [{'id': 32, 'first_name': 'DELETED', 'last_name': '', 'deactivated': 'deleted', 'sex': 0}]}\n",
      "{'error': {'error_code': 6, 'error_msg': 'Too many requests per second', 'request_params': [{'key': 'user_ids', 'value': '33'}, {'key': 'fields', 'value': 'education, sex'}, {'key': 'v', 'value': '5.52'}, {'key': 'method', 'value': 'users.get'}, {'key': 'oauth', 'value': '1'}]}}\n",
      "{'error': {'error_code': 6, 'error_msg': 'Too many requests per second', 'request_params': [{'key': 'user_ids', 'value': '34'}, {'key': 'fields', 'value': 'education, sex'}, {'key': 'v', 'value': '5.52'}, {'key': 'method', 'value': 'users.get'}, {'key': 'oauth', 'value': '1'}]}}\n",
      "{'error': {'error_code': 6, 'error_msg': 'Too many requests per second', 'request_params': [{'key': 'user_ids', 'value': '35'}, {'key': 'fields', 'value': 'education, sex'}, {'key': 'v', 'value': '5.52'}, {'key': 'method', 'value': 'users.get'}, {'key': 'oauth', 'value': '1'}]}}\n",
      "{'error': {'error_code': 6, 'error_msg': 'Too many requests per second', 'request_params': [{'key': 'user_ids', 'value': '36'}, {'key': 'fields', 'value': 'education, sex'}, {'key': 'v', 'value': '5.52'}, {'key': 'method', 'value': 'users.get'}, {'key': 'oauth', 'value': '1'}]}}\n",
      "{'error': {'error_code': 6, 'error_msg': 'Too many requests per second', 'request_params': [{'key': 'user_ids', 'value': '37'}, {'key': 'fields', 'value': 'education, sex'}, {'key': 'v', 'value': '5.52'}, {'key': 'method', 'value': 'users.get'}, {'key': 'oauth', 'value': '1'}]}}\n",
      "{'error': {'error_code': 6, 'error_msg': 'Too many requests per second', 'request_params': [{'key': 'user_ids', 'value': '38'}, {'key': 'fields', 'value': 'education, sex'}, {'key': 'v', 'value': '5.52'}, {'key': 'method', 'value': 'users.get'}, {'key': 'oauth', 'value': '1'}]}}\n",
      "{'error': {'error_code': 6, 'error_msg': 'Too many requests per second', 'request_params': [{'key': 'user_ids', 'value': '39'}, {'key': 'fields', 'value': 'education, sex'}, {'key': 'v', 'value': '5.52'}, {'key': 'method', 'value': 'users.get'}, {'key': 'oauth', 'value': '1'}]}}\n",
      "{'response': [{'id': 40, 'first_name': 'Олег', 'last_name': 'Чередников', 'sex': 2}]}\n",
      "{'response': [{'id': 41, 'first_name': 'Владислав', 'last_name': 'Миллер', 'sex': 2}]}\n",
      "{'response': [{'id': 42, 'first_name': 'Сергей', 'last_name': 'Маркин', 'sex': 2}]}\n",
      "{'response': [{'id': 43, 'first_name': 'Хаим', 'last_name': 'Турпиашвили', 'sex': 2}]}\n",
      "{'response': [{'id': 44, 'first_name': 'Тамара', 'last_name': 'Мирилашвили', 'sex': 1}]}\n",
      "{'response': [{'id': 45, 'first_name': 'Сергей', 'last_name': 'Виноградов', 'sex': 2}]}\n",
      "{'response': [{'id': 46, 'first_name': 'Андрей', 'last_name': 'Лесохин', 'sex': 2}]}\n",
      "{'response': [{'id': 47, 'first_name': 'Габриел', 'last_name': 'Шалел', 'deactivated': 'banned', 'sex': 2}]}\n",
      "{'response': [{'id': 48, 'first_name': 'Миша', 'last_name': 'Мельников', 'sex': 2, 'university': 1039546, 'university_name': 'University of California – Berkeley', 'faculty': 838416, 'faculty_name': 'Haas School of Business', 'graduation': 2011, 'education_form': 'Очное отделение', 'education_status': 'Выпускник (магистр)'}]}\n",
      "{'error': {'error_code': 6, 'error_msg': 'Too many requests per second', 'request_params': [{'key': 'user_ids', 'value': '49'}, {'key': 'fields', 'value': 'education, sex'}, {'key': 'v', 'value': '5.52'}, {'key': 'method', 'value': 'users.get'}, {'key': 'oauth', 'value': '1'}]}}\n",
      "{'error': {'error_code': 6, 'error_msg': 'Too many requests per second', 'request_params': [{'key': 'user_ids', 'value': '50'}, {'key': 'fields', 'value': 'education, sex'}, {'key': 'v', 'value': '5.52'}, {'key': 'method', 'value': 'users.get'}, {'key': 'oauth', 'value': '1'}]}}\n"
     ]
    },
    {
     "name": "stdout",
     "output_type": "stream",
     "text": [
      "{'error': {'error_code': 6, 'error_msg': 'Too many requests per second', 'request_params': [{'key': 'user_ids', 'value': '51'}, {'key': 'fields', 'value': 'education, sex'}, {'key': 'v', 'value': '5.52'}, {'key': 'method', 'value': 'users.get'}, {'key': 'oauth', 'value': '1'}]}}\n",
      "{'error': {'error_code': 6, 'error_msg': 'Too many requests per second', 'request_params': [{'key': 'user_ids', 'value': '52'}, {'key': 'fields', 'value': 'education, sex'}, {'key': 'v', 'value': '5.52'}, {'key': 'method', 'value': 'users.get'}, {'key': 'oauth', 'value': '1'}]}}\n",
      "{'error': {'error_code': 6, 'error_msg': 'Too many requests per second', 'request_params': [{'key': 'user_ids', 'value': '53'}, {'key': 'fields', 'value': 'education, sex'}, {'key': 'v', 'value': '5.52'}, {'key': 'method', 'value': 'users.get'}, {'key': 'oauth', 'value': '1'}]}}\n",
      "{'response': [{'id': 54, 'first_name': 'Екатерина', 'last_name': 'Фуртикова', 'sex': 1, 'university': 1, 'university_name': 'СПбГУ', 'faculty': 12, 'faculty_name': 'Факультет психологии', 'graduation': 2010, 'education_form': 'Очное отделение', 'education_status': 'Выпускница (специалист)'}]}\n",
      "{'response': [{'id': 55, 'first_name': 'Андрей', 'last_name': 'Смирнов', 'sex': 2, 'university': 1, 'university_name': 'СПбГУ', 'faculty': 14, 'faculty_name': 'Физический факультет', 'graduation': 2010, 'education_form': 'Очное отделение', 'education_status': 'Студент (бакалавр)'}]}\n",
      "{'response': [{'id': 56, 'first_name': 'Андрей', 'last_name': 'Чернышев', 'sex': 2, 'university': 2, 'university_name': 'МГУ', 'faculty': 23, 'faculty_name': 'Факультет вычислительной математики и кибернетики', 'graduation': 2007, 'education_form': 'Очное отделение', 'education_status': 'Выпускник (специалист)'}]}\n",
      "{'response': [{'id': 57, 'first_name': 'Сергей', 'last_name': 'Владимиров', 'sex': 2}]}\n",
      "{'response': [{'id': 58, 'first_name': 'Александр', 'last_name': 'Ковалев', 'deactivated': 'banned', 'sex': 2}]}\n",
      "{'response': [{'id': 59, 'first_name': 'Анастасия', 'last_name': 'Желудкова', 'sex': 1}]}\n",
      "{'response': [{'id': 60, 'first_name': 'Даниэль', 'last_name': 'Розенберг', 'sex': 2}]}\n",
      "{'response': [{'id': 61, 'first_name': 'Григорий', 'last_name': 'Конрадт', 'sex': 2}]}\n",
      "{'response': [{'id': 62, 'first_name': 'Анастасия', 'last_name': 'Ланина', 'sex': 1}]}\n",
      "{'error': {'error_code': 6, 'error_msg': 'Too many requests per second', 'request_params': [{'key': 'user_ids', 'value': '63'}, {'key': 'fields', 'value': 'education, sex'}, {'key': 'v', 'value': '5.52'}, {'key': 'method', 'value': 'users.get'}, {'key': 'oauth', 'value': '1'}]}}\n",
      "{'error': {'error_code': 6, 'error_msg': 'Too many requests per second', 'request_params': [{'key': 'user_ids', 'value': '64'}, {'key': 'fields', 'value': 'education, sex'}, {'key': 'v', 'value': '5.52'}, {'key': 'method', 'value': 'users.get'}, {'key': 'oauth', 'value': '1'}]}}\n",
      "{'error': {'error_code': 6, 'error_msg': 'Too many requests per second', 'request_params': [{'key': 'user_ids', 'value': '65'}, {'key': 'fields', 'value': 'education, sex'}, {'key': 'v', 'value': '5.52'}, {'key': 'method', 'value': 'users.get'}, {'key': 'oauth', 'value': '1'}]}}\n",
      "{'error': {'error_code': 6, 'error_msg': 'Too many requests per second', 'request_params': [{'key': 'user_ids', 'value': '66'}, {'key': 'fields', 'value': 'education, sex'}, {'key': 'v', 'value': '5.52'}, {'key': 'method', 'value': 'users.get'}, {'key': 'oauth', 'value': '1'}]}}\n",
      "{'error': {'error_code': 6, 'error_msg': 'Too many requests per second', 'request_params': [{'key': 'user_ids', 'value': '67'}, {'key': 'fields', 'value': 'education, sex'}, {'key': 'v', 'value': '5.52'}, {'key': 'method', 'value': 'users.get'}, {'key': 'oauth', 'value': '1'}]}}\n",
      "{'response': [{'id': 68, 'first_name': 'Вика', 'last_name': 'Мирилашвили', 'sex': 1}]}\n",
      "{'response': [{'id': 69, 'first_name': 'Avi', 'last_name': 'Shalel', 'sex': 2}]}\n",
      "{'response': [{'id': 70, 'first_name': 'Митя', 'last_name': 'Миронов', 'sex': 2}]}\n",
      "{'response': [{'id': 71, 'first_name': 'Людмила', 'last_name': 'Романченко', 'sex': 1}]}\n",
      "{'response': [{'id': 72, 'first_name': 'DELETED', 'last_name': '', 'deactivated': 'deleted', 'sex': 0}]}\n",
      "{'response': [{'id': 73, 'first_name': 'Надежда', 'last_name': 'Лебедева', 'sex': 1}]}\n",
      "{'response': [{'id': 74, 'first_name': 'Наташа', 'last_name': 'Филимонова', 'sex': 1}]}\n",
      "{'response': [{'id': 75, 'first_name': 'Екатерина', 'last_name': 'Копылова', 'sex': 1}]}\n",
      "{'response': [{'id': 76, 'first_name': 'David', 'last_name': 'Biniaurischwili', 'deactivated': 'banned', 'sex': 2}]}\n",
      "{'error': {'error_code': 6, 'error_msg': 'Too many requests per second', 'request_params': [{'key': 'user_ids', 'value': '77'}, {'key': 'fields', 'value': 'education, sex'}, {'key': 'v', 'value': '5.52'}, {'key': 'method', 'value': 'users.get'}, {'key': 'oauth', 'value': '1'}]}}\n",
      "{'error': {'error_code': 6, 'error_msg': 'Too many requests per second', 'request_params': [{'key': 'user_ids', 'value': '78'}, {'key': 'fields', 'value': 'education, sex'}, {'key': 'v', 'value': '5.52'}, {'key': 'method', 'value': 'users.get'}, {'key': 'oauth', 'value': '1'}]}}\n",
      "{'error': {'error_code': 6, 'error_msg': 'Too many requests per second', 'request_params': [{'key': 'user_ids', 'value': '79'}, {'key': 'fields', 'value': 'education, sex'}, {'key': 'v', 'value': '5.52'}, {'key': 'method', 'value': 'users.get'}, {'key': 'oauth', 'value': '1'}]}}\n",
      "{'response': [{'id': 80, 'first_name': 'DELETED', 'last_name': '', 'deactivated': 'deleted', 'sex': 0}]}\n",
      "{'response': [{'id': 81, 'first_name': 'Влад', 'last_name': 'Куценко', 'deactivated': 'banned', 'sex': 2}]}\n",
      "{'response': [{'id': 82, 'first_name': 'Tami', 'last_name': 'Shalel', 'deactivated': 'banned', 'sex': 2}]}\n",
      "{'response': [{'id': 83, 'first_name': 'Дмитрий', 'last_name': 'Тихомиров', 'deactivated': 'banned', 'sex': 2}]}\n",
      "{'response': [{'id': 84, 'first_name': 'Фёдор', 'last_name': 'Медведев', 'sex': 2, 'university': 0, 'university_name': '', 'faculty': 0, 'faculty_name': '', 'graduation': 0}]}\n",
      "{'response': [{'id': 85, 'first_name': 'Mikhail', 'last_name': 'Gennadevich', 'sex': 2}]}\n",
      "{'response': [{'id': 86, 'first_name': 'Никита', 'last_name': 'Пиастро', 'sex': 2}]}\n",
      "{'response': [{'id': 87, 'first_name': 'Екатерина', 'last_name': 'Калинина', 'sex': 1}]}\n",
      "{'response': [{'id': 88, 'first_name': 'Полина', 'last_name': 'Олейник', 'sex': 1}]}\n",
      "{'error': {'error_code': 6, 'error_msg': 'Too many requests per second', 'request_params': [{'key': 'user_ids', 'value': '89'}, {'key': 'fields', 'value': 'education, sex'}, {'key': 'v', 'value': '5.52'}, {'key': 'method', 'value': 'users.get'}, {'key': 'oauth', 'value': '1'}]}}\n",
      "{'error': {'error_code': 6, 'error_msg': 'Too many requests per second', 'request_params': [{'key': 'user_ids', 'value': '90'}, {'key': 'fields', 'value': 'education, sex'}, {'key': 'v', 'value': '5.52'}, {'key': 'method', 'value': 'users.get'}, {'key': 'oauth', 'value': '1'}]}}\n",
      "{'error': {'error_code': 6, 'error_msg': 'Too many requests per second', 'request_params': [{'key': 'user_ids', 'value': '91'}, {'key': 'fields', 'value': 'education, sex'}, {'key': 'v', 'value': '5.52'}, {'key': 'method', 'value': 'users.get'}, {'key': 'oauth', 'value': '1'}]}}\n",
      "{'error': {'error_code': 6, 'error_msg': 'Too many requests per second', 'request_params': [{'key': 'user_ids', 'value': '92'}, {'key': 'fields', 'value': 'education, sex'}, {'key': 'v', 'value': '5.52'}, {'key': 'method', 'value': 'users.get'}, {'key': 'oauth', 'value': '1'}]}}\n",
      "{'response': [{'id': 93, 'first_name': 'Анна', 'last_name': 'Забоева', 'sex': 1}]}\n",
      "{'response': [{'id': 94, 'first_name': 'Екатерина', 'last_name': 'Теплова', 'sex': 1}]}\n",
      "{'response': [{'id': 95, 'first_name': 'DELETED', 'last_name': '', 'deactivated': 'deleted', 'sex': 0}]}\n",
      "{'response': [{'id': 96, 'first_name': 'DELETED', 'last_name': '', 'deactivated': 'deleted', 'sex': 0}]}\n",
      "{'response': [{'id': 97, 'first_name': 'DELETED', 'last_name': '', 'deactivated': 'deleted', 'sex': 0}]}\n",
      "{'response': [{'id': 98, 'first_name': 'DELETED', 'last_name': '', 'deactivated': 'deleted', 'sex': 0}]}\n",
      "{'response': [{'id': 99, 'first_name': 'Наталья', 'last_name': 'Брагина', 'sex': 1}]}\n"
     ]
    }
   ],
   "source": [
    "import requests\n",
    "i = 1\n",
    "while i < 100:\n",
    "    r = requests.get('https://api.vk.com/method/users.get',params={'user_ids':i,'fields':'education, sex','v':'5.52','access_token':'ae52015191fc8a8e1d98193433eaa638828ea5eac6b936d947eb5379a007395163c39e6d7fe796ccf0a99'})\n",
    "    print(r.json())\n",
    "    i=i+1"
   ]
  },
  {
   "cell_type": "code",
   "execution_count": 1,
   "metadata": {},
   "outputs": [
    {
     "name": "stdout",
     "output_type": "stream",
     "text": [
      "{'response': {'count': 320, 'items': [{'id': 463509701, 'first_name': 'Mahmoud', 'last_name': 'Ali', 'is_closed': False, 'can_access_closed': True, 'photo_50': 'https://sun7-8.userapi.com/c857324/v857324436/15c8cf/Ko-N37Sv1Xs.jpg?ava=1'}, {'id': 383214088, 'first_name': 'Анна', 'last_name': 'Морозова', 'is_closed': False, 'can_access_closed': True, 'photo_50': 'https://sun9-51.userapi.com/c840736/v840736406/279d9/GK2MORNZo5k.jpg?ava=1'}]}}\n"
     ]
    }
   ],
   "source": [
    "import requests\n",
    "i = 'stasyaaleks'\n",
    "r = requests.get('https://api.vk.com/method/users.getFollowers',params={'user_ids':i,'count': 2,'fields':'photo_50','v':'5.103','access_token':'ae52015191fc8a8e1d98193433eaa638828ea5eac6b936d947eb5379a007395163c39e6d7fe796ccf0a99'})\n",
    "print(r.json())"
   ]
  },
  {
   "cell_type": "code",
   "execution_count": 38,
   "metadata": {},
   "outputs": [],
   "source": [
    "import vk\n",
    "session = vk.Session()\n",
    "vk_api = vk.API(session)\n"
   ]
  },
  {
   "cell_type": "code",
   "execution_count": 40,
   "metadata": {},
   "outputs": [],
   "source": [
    "token = \"ae52015191fc8a8e1d98193433eaa638828ea5eac6b936d947eb5379a007395163c39e6d7fe796ccf0a99\"\n",
    "session = vk.Session(access_token='tocken')"
   ]
  },
  {
   "cell_type": "code",
   "execution_count": 59,
   "metadata": {},
   "outputs": [
    {
     "name": "stdout",
     "output_type": "stream",
     "text": [
      "{'response': {'count': 5, 'items': [{'id': 65732576, 'first_name': 'Стася', 'last_name': 'Александровская', 'sex': 1, 'nickname': '', 'bdate': '25.11.1998', 'city': {'id': 60, 'title': 'Казань'}, 'country': {'id': 1, 'title': 'Россия'}, 'verified': 0, 'university': 527, 'university_name': 'КФУ (бывш. КГУ им. Ульянова-Ленина)', 'faculty': 2138933, 'faculty_name': 'Высшая школа информационных технологий и интеллектуальных систем', 'graduation': 2021, 'home_town': 'Казань', 'universities': [{'id': 527, 'country': 1, 'city': 60, 'name': 'КФУ (бывш. КГУ им. Ульянова-Ленина)', 'faculty': 2138933, 'faculty_name': 'Высшая школа информационных технологий и интеллектуальных систем', 'chair': 2037013, 'chair_name': 'Программная инженерия', 'graduation': 2021}], 'schools': [{'id': '166156', 'country': 1, 'city': 60, 'name': 'Физико-математический лицей № 131', 'class': ''}, {'id': '24336', 'country': 1, 'city': 60, 'name': 'Музыкальная школа № 7', 'year_from': 2004, 'year_to': 2012, 'year_graduated': 2012, 'class': '', 'speciality': 'фортепиано'}], 'track_code': '9182a84eda51H5wikrqYDRCv-UK_0H2mu8j6FS8rTjXcOw06pxgSxzdMkhOXuptbIl8Dgky_Gbukxe1nIQ'}, {'id': 38539515, 'first_name': 'Стася', 'last_name': 'Швец', 'sex': 1, 'nickname': '', 'bdate': '11.10', 'city': {'id': 60, 'title': 'Казань'}, 'country': {'id': 1, 'title': 'Россия'}, 'verified': 0, 'university': 527, 'university_name': 'КФУ (бывш. КГУ им. Ульянова-Ленина)', 'faculty': 2766, 'faculty_name': 'Институт управления, экономики и финансов', 'graduation': 0, 'education_form': 'Очное отделение', 'education_status': 'Студентка (специалист)', 'home_town': 'Казань', 'universities': [{'id': 527, 'country': 1, 'city': 60, 'name': 'КФУ (бывш. КГУ им. Ульянова-Ленина)', 'faculty': 2766, 'faculty_name': 'Институт управления, экономики и финансов', 'chair': 2037135, 'chair_name': 'Государственного и муниципального управления', 'education_form': 'Очное отделение', 'education_status': 'Студентка (специалист)'}], 'schools': [{'id': '166156', 'country': 1, 'city': 60, 'name': 'Физико-математический лицей № 131', 'year_from': 2006, 'year_to': 2010, 'class': 'г', 'type': 2, 'type_str': 'Лицей'}, {'id': '62546', 'country': 1, 'city': 60, 'name': 'Школа № 39', 'year_from': 2000, 'year_to': 2006, 'class': 'а'}, {'id': '15637', 'country': 1, 'city': 60, 'name': 'Гимназия № 3', 'year_from': 1999, 'year_to': 2000, 'class': 'б', 'type': 1, 'type_str': 'Гимназия'}, {'id': '267593', 'country': 1, 'city': 60, 'name': 'Художественная школа № 5', 'year_from': 2002, 'year_to': 2006, 'year_graduated': 2006, 'class': '', 'type': 7, 'type_str': 'Худ. школа'}], 'track_code': 'b9b302b6JfBqawaJGIyzPrIW-YOtoVXtVFkfz1xQ-o_KRH-UvxJCmSA7COUehOI0iuYFQF7OMfBLVAi9Ug'}, {'id': 304808675, 'first_name': 'Стася', 'last_name': 'Солнцева', 'sex': 1, 'nickname': '', 'bdate': '1.5', 'city': {'id': 88, 'title': 'Набережные Челны'}, 'country': {'id': 1, 'title': 'Россия'}, 'verified': 0, 'university': 527, 'university_name': 'КФУ (бывш. КГУ им. Ульянова-Ленина)', 'faculty': 0, 'faculty_name': '', 'graduation': 0, 'home_town': 'Набережные Челны Ярославль Самара Нижний Новгород  Казань Уфа Ижевск Москва Санкт-Петербург Ульяновск Тольятти', 'universities': [{'id': 527, 'country': 1, 'city': 88, 'name': 'КФУ (бывш. КГУ им. Ульянова-Ленина)'}], 'schools': [], 'track_code': 'fdb84cf1sZvJkdu6Ich8zerTBxk7rRUFFeIxsTmj_ZjUpoEkUPfW8t6QhId0nS7D2C782PupfQsT4TGxN8U'}]}}\n"
     ]
    }
   ],
   "source": [
    "import requests\n",
    "r = requests.get('https://api.vk.com/method/users.search',params={'q':'Стася','count':10,'fields':'verified, sex, bdate, city, country, home_town, education, universities, schools,nickname','hometown':'Казань','university':527,'age_from':18,'age_to':27,'v':'5.52','access_token':'ae52015191fc8a8e1d98193433eaa638828ea5eac6b936d947eb5379a007395163c39e6d7fe796ccf0a99'})\n",
    "print(r.json())"
   ]
  },
  {
   "cell_type": "code",
   "execution_count": null,
   "metadata": {},
   "outputs": [],
   "source": []
  }
 ],
 "metadata": {
  "kernelspec": {
   "display_name": "Python 3",
   "language": "python",
   "name": "python3"
  },
  "language_info": {
   "codemirror_mode": {
    "name": "ipython",
    "version": 3
   },
   "file_extension": ".py",
   "mimetype": "text/x-python",
   "name": "python",
   "nbconvert_exporter": "python",
   "pygments_lexer": "ipython3",
   "version": "3.7.3"
  }
 },
 "nbformat": 4,
 "nbformat_minor": 2
}
